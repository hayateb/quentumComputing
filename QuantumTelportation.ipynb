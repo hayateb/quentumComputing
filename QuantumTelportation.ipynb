{
 "cells": [
  {
   "cell_type": "code",
   "execution_count": 643,
   "id": "66ea1fc2",
   "metadata": {},
   "outputs": [],
   "source": [
    "from qiskit import QuantumCircuit , ClassicalRegister ,QuantumRegister"
   ]
  },
  {
   "cell_type": "code",
   "execution_count": 644,
   "id": "9b43e18c",
   "metadata": {},
   "outputs": [],
   "source": [
    "from qiskit.visualization import plot_histogram\n"
   ]
  },
  {
   "cell_type": "code",
   "execution_count": 645,
   "id": "8017773c",
   "metadata": {},
   "outputs": [],
   "source": [
    "import numpy as np"
   ]
  },
  {
   "cell_type": "code",
   "execution_count": 646,
   "id": "7f10c8f6",
   "metadata": {},
   "outputs": [],
   "source": [
    "from qiskit.quantum_info import random_unitary"
   ]
  },
  {
   "cell_type": "code",
   "execution_count": 647,
   "id": "8e16b8b8",
   "metadata": {},
   "outputs": [],
   "source": [
    "from qiskit.circuit.library import UnitaryGate"
   ]
  },
  {
   "cell_type": "code",
   "execution_count": 648,
   "id": "657fd97d",
   "metadata": {},
   "outputs": [],
   "source": [
    "# q = QuantumRegister(3)\n",
    "# c = ClassicalRegister(2)\n",
    "qc = QuantumCircuit(3, 2)\n",
    "# qc.draw('mpl')"
   ]
  },
  {
   "cell_type": "code",
   "execution_count": 649,
   "id": "8c4bd816",
   "metadata": {},
   "outputs": [
    {
     "data": {
      "text/plain": [
       "<qiskit.circuit.instructionset.InstructionSet at 0x70eec14bcb80>"
      ]
     },
     "execution_count": 649,
     "metadata": {},
     "output_type": "execute_result"
    }
   ],
   "source": [
    "qc.h(1) "
   ]
  },
  {
   "cell_type": "code",
   "execution_count": 650,
   "id": "40e23b87",
   "metadata": {},
   "outputs": [
    {
     "data": {
      "text/plain": [
       "<qiskit.circuit.instructionset.InstructionSet at 0x70eec14bc490>"
      ]
     },
     "execution_count": 650,
     "metadata": {},
     "output_type": "execute_result"
    }
   ],
   "source": [
    "qc.cx(1,2)"
   ]
  },
  {
   "cell_type": "code",
   "execution_count": 651,
   "id": "bda2e1f7",
   "metadata": {},
   "outputs": [
    {
     "data": {
      "text/plain": [
       "CircuitInstruction(operation=Instruction(name='barrier', num_qubits=3, num_clbits=0, params=[]), qubits=(<Qubit register=(3, \"q\"), index=0>, <Qubit register=(3, \"q\"), index=1>, <Qubit register=(3, \"q\"), index=2>), clbits=())"
      ]
     },
     "execution_count": 651,
     "metadata": {},
     "output_type": "execute_result"
    }
   ],
   "source": [
    "\n",
    "qc.barrier()"
   ]
  },
  {
   "cell_type": "code",
   "execution_count": 652,
   "id": "84d378c8",
   "metadata": {},
   "outputs": [
    {
     "data": {
      "text/plain": [
       "<qiskit.circuit.instructionset.InstructionSet at 0x70eec14bed40>"
      ]
     },
     "execution_count": 652,
     "metadata": {},
     "output_type": "execute_result"
    }
   ],
   "source": [
    "U = random_unitary(2)\n",
    "U_gate = UnitaryGate(U, label=\"u\")\n",
    "qc.append(U_gate, [0])"
   ]
  },
  {
   "cell_type": "code",
   "execution_count": 653,
   "id": "1a93c4a5",
   "metadata": {},
   "outputs": [
    {
     "data": {
      "text/plain": [
       "CircuitInstruction(operation=Instruction(name='barrier', num_qubits=3, num_clbits=0, params=[]), qubits=(<Qubit register=(3, \"q\"), index=0>, <Qubit register=(3, \"q\"), index=1>, <Qubit register=(3, \"q\"), index=2>), clbits=())"
      ]
     },
     "execution_count": 653,
     "metadata": {},
     "output_type": "execute_result"
    }
   ],
   "source": [
    "qc.barrier()"
   ]
  },
  {
   "cell_type": "code",
   "execution_count": 654,
   "id": "ad15d011",
   "metadata": {},
   "outputs": [
    {
     "data": {
      "text/plain": [
       "<qiskit.circuit.instructionset.InstructionSet at 0x70eec14bdc90>"
      ]
     },
     "execution_count": 654,
     "metadata": {},
     "output_type": "execute_result"
    }
   ],
   "source": [
    "qc.cx(0,1)\n"
   ]
  },
  {
   "cell_type": "code",
   "execution_count": 655,
   "id": "bfd27442",
   "metadata": {},
   "outputs": [
    {
     "data": {
      "text/plain": [
       "<qiskit.circuit.instructionset.InstructionSet at 0x70eec14bcf70>"
      ]
     },
     "execution_count": 655,
     "metadata": {},
     "output_type": "execute_result"
    }
   ],
   "source": [
    "\n",
    "qc.h(0)"
   ]
  },
  {
   "cell_type": "code",
   "execution_count": 656,
   "id": "6684229c",
   "metadata": {},
   "outputs": [
    {
     "data": {
      "text/plain": [
       "CircuitInstruction(operation=Instruction(name='barrier', num_qubits=3, num_clbits=0, params=[]), qubits=(<Qubit register=(3, \"q\"), index=0>, <Qubit register=(3, \"q\"), index=1>, <Qubit register=(3, \"q\"), index=2>), clbits=())"
      ]
     },
     "execution_count": 656,
     "metadata": {},
     "output_type": "execute_result"
    }
   ],
   "source": [
    "qc.barrier()\n"
   ]
  },
  {
   "cell_type": "code",
   "execution_count": 657,
   "id": "87bac6fa",
   "metadata": {},
   "outputs": [
    {
     "data": {
      "text/plain": [
       "<qiskit.circuit.instructionset.InstructionSet at 0x70eec14bf070>"
      ]
     },
     "execution_count": 657,
     "metadata": {},
     "output_type": "execute_result"
    }
   ],
   "source": [
    "qc.measure ([0,1] , [0,1])\n"
   ]
  },
  {
   "cell_type": "code",
   "execution_count": 658,
   "id": "42cd3737",
   "metadata": {},
   "outputs": [],
   "source": [
    "with qc.if_test((qc.clbits[1], 1)):\n",
    "    qc.x(2)\n",
    "with qc.if_test((qc.clbits[1], 1)):   \n",
    "    qc.z(2)"
   ]
  },
  {
   "cell_type": "code",
   "execution_count": 659,
   "id": "6504119c",
   "metadata": {},
   "outputs": [
    {
     "data": {
      "image/png": "[encoded data removed]",
      "text/plain": [
       "<Figure size 1290.83x367.889 with 1 Axes>"
      ]
     },
     "execution_count": 659,
     "metadata": {},
     "output_type": "execute_result"
    }
   ],
   "source": [
    "qc.draw('mpl')"
   ]
  },
  {
   "cell_type": "code",
   "execution_count": 660,
   "id": "7624e5df",
   "metadata": {},
   "outputs": [],
   "source": [
    "%reset -f"
   ]
  }
 ],
 "metadata": {
  "kernelspec": {
   "display_name": "Python 3",
   "language": "python",
   "name": "python3"
  },
  "language_info": {
   "codemirror_mode": {
    "name": "ipython",
    "version": 3
   },
   "file_extension": ".py",
   "mimetype": "text/x-python",
   "name": "python",
   "nbconvert_exporter": "python",
   "pygments_lexer": "ipython3",
   "version": "3.10.12"
  }
 },
 "nbformat": 4,
 "nbformat_minor": 5
}
