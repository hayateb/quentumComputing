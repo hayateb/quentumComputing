{
 "cells": [
  {
   "cell_type": "code",
   "execution_count": 1,
   "id": "66ea1fc2",
   "metadata": {},
   "outputs": [],
   "source": [
    "from qiskit import QuantumCircuit , ClassicalRegister ,QuantumRegister "
   ]
  },
  {
   "cell_type": "code",
   "execution_count": 2,
   "id": "5704f6c2",
   "metadata": {},
   "outputs": [],
   "source": [
    "from qiskit_aer import Aer\n",
    "from qiskit import transpile"
   ]
  },
  {
   "cell_type": "code",
   "execution_count": 3,
   "id": "9b43e18c",
   "metadata": {},
   "outputs": [],
   "source": [
    "from qiskit.visualization import plot_histogram\n"
   ]
  },
  {
   "cell_type": "code",
   "execution_count": 4,
   "id": "26330f40",
   "metadata": {},
   "outputs": [],
   "source": [
    "import matplotlib.pyplot as plt"
   ]
  },
  {
   "cell_type": "code",
   "execution_count": 5,
   "id": "8017773c",
   "metadata": {},
   "outputs": [],
   "source": [
    "import numpy as np"
   ]
  },
  {
   "cell_type": "code",
   "execution_count": 6,
   "id": "7f10c8f6",
   "metadata": {},
   "outputs": [],
   "source": [
    "from qiskit.quantum_info import random_unitary ,Statevector"
   ]
  },
  {
   "cell_type": "code",
   "execution_count": 7,
   "id": "8e16b8b8",
   "metadata": {},
   "outputs": [],
   "source": [
    "from qiskit.circuit.library import UnitaryGate"
   ]
  },
  {
   "cell_type": "code",
   "execution_count": 8,
   "id": "657fd97d",
   "metadata": {},
   "outputs": [],
   "source": [
    "# q = QuantumRegister(3)\n",
    "# c = ClassicalRegister(2)\n",
    "qc = QuantumCircuit(3, 2)\n",
    "# qc.draw('mpl')"
   ]
  },
  {
   "cell_type": "code",
   "execution_count": 9,
   "id": "8c4bd816",
   "metadata": {},
   "outputs": [
    {
     "data": {
      "text/plain": [
       "<qiskit.circuit.instructionset.InstructionSet at 0x7c52d91fdf30>"
      ]
     },
     "execution_count": 9,
     "metadata": {},
     "output_type": "execute_result"
    }
   ],
   "source": [
    "qc.h(1)\n"
   ]
  },
  {
   "cell_type": "code",
   "execution_count": 10,
   "id": "40e23b87",
   "metadata": {},
   "outputs": [
    {
     "data": {
      "text/plain": [
       "<qiskit.circuit.instructionset.InstructionSet at 0x7c5305ab4ac0>"
      ]
     },
     "execution_count": 10,
     "metadata": {},
     "output_type": "execute_result"
    }
   ],
   "source": [
    "qc.cx(1,2)"
   ]
  },
  {
   "cell_type": "code",
   "execution_count": 11,
   "id": "bda2e1f7",
   "metadata": {},
   "outputs": [
    {
     "data": {
      "text/plain": [
       "CircuitInstruction(operation=Instruction(name='barrier', num_qubits=3, num_clbits=0, params=[]), qubits=(<Qubit register=(3, \"q\"), index=0>, <Qubit register=(3, \"q\"), index=1>, <Qubit register=(3, \"q\"), index=2>), clbits=())"
      ]
     },
     "execution_count": 11,
     "metadata": {},
     "output_type": "execute_result"
    }
   ],
   "source": [
    "\n",
    "qc.barrier()"
   ]
  },
  {
   "cell_type": "code",
   "execution_count": 12,
   "id": "84d378c8",
   "metadata": {},
   "outputs": [
    {
     "data": {
      "text/plain": [
       "<qiskit.circuit.instructionset.InstructionSet at 0x7c52d91fe1a0>"
      ]
     },
     "execution_count": 12,
     "metadata": {},
     "output_type": "execute_result"
    }
   ],
   "source": [
    "U = random_unitary(2)\n",
    "U_gate = UnitaryGate(U, label=\"u\")\n",
    "qc.append(U_gate, [0])"
   ]
  },
  {
   "cell_type": "code",
   "execution_count": 13,
   "id": "1a93c4a5",
   "metadata": {},
   "outputs": [
    {
     "data": {
      "text/plain": [
       "CircuitInstruction(operation=Instruction(name='barrier', num_qubits=3, num_clbits=0, params=[]), qubits=(<Qubit register=(3, \"q\"), index=0>, <Qubit register=(3, \"q\"), index=1>, <Qubit register=(3, \"q\"), index=2>), clbits=())"
      ]
     },
     "execution_count": 13,
     "metadata": {},
     "output_type": "execute_result"
    }
   ],
   "source": [
    "qc.barrier()"
   ]
  },
  {
   "cell_type": "code",
   "execution_count": 14,
   "id": "ad15d011",
   "metadata": {},
   "outputs": [
    {
     "data": {
      "text/plain": [
       "<qiskit.circuit.instructionset.InstructionSet at 0x7c52d91fe320>"
      ]
     },
     "execution_count": 14,
     "metadata": {},
     "output_type": "execute_result"
    }
   ],
   "source": [
    "qc.cx(0,1)\n"
   ]
  },
  {
   "cell_type": "code",
   "execution_count": 15,
   "id": "bfd27442",
   "metadata": {},
   "outputs": [
    {
     "data": {
      "text/plain": [
       "<qiskit.circuit.instructionset.InstructionSet at 0x7c52d91fe170>"
      ]
     },
     "execution_count": 15,
     "metadata": {},
     "output_type": "execute_result"
    }
   ],
   "source": [
    "\n",
    "qc.h(0)"
   ]
  },
  {
   "cell_type": "code",
   "execution_count": 16,
   "id": "6684229c",
   "metadata": {},
   "outputs": [
    {
     "data": {
      "text/plain": [
       "CircuitInstruction(operation=Instruction(name='barrier', num_qubits=3, num_clbits=0, params=[]), qubits=(<Qubit register=(3, \"q\"), index=0>, <Qubit register=(3, \"q\"), index=1>, <Qubit register=(3, \"q\"), index=2>), clbits=())"
      ]
     },
     "execution_count": 16,
     "metadata": {},
     "output_type": "execute_result"
    }
   ],
   "source": [
    "qc.barrier()\n"
   ]
  },
  {
   "cell_type": "code",
   "execution_count": 17,
   "id": "87bac6fa",
   "metadata": {},
   "outputs": [
    {
     "data": {
      "text/plain": [
       "<qiskit.circuit.instructionset.InstructionSet at 0x7c52d91dbc10>"
      ]
     },
     "execution_count": 17,
     "metadata": {},
     "output_type": "execute_result"
    }
   ],
   "source": [
    "qc.measure ([1,0] , [1,0])\n"
   ]
  },
  {
   "cell_type": "code",
   "execution_count": 18,
   "id": "e76e0038",
   "metadata": {},
   "outputs": [],
   "source": [
    "\n",
    "backend = Aer.get_backend('qasm_simulator')\n",
    "compiled = transpile(qc, backend)\n",
    "result = backend.run(compiled, shots=1024).result()\n",
    "counts = result.get_counts()"
   ]
  },
  {
   "cell_type": "code",
   "execution_count": 19,
   "id": "0b03d185",
   "metadata": {},
   "outputs": [],
   "source": [
    "\n",
    "with qc.if_test((qc.clbits[1], 1)):\n",
    "    qc.x(2)\n",
    "with qc.if_test((qc.clbits[1], 1)):   \n",
    "    qc.z(2)"
   ]
  },
  {
   "cell_type": "code",
   "execution_count": 20,
   "id": "0fb3a5ac",
   "metadata": {},
   "outputs": [],
   "source": [
    "# qc.measure(2,1)\n"
   ]
  },
  {
   "cell_type": "code",
   "execution_count": null,
   "id": "13453dcd",
   "metadata": {},
   "outputs": [],
   "source": []
  },
  {
   "cell_type": "code",
   "execution_count": 21,
   "id": "6504119c",
   "metadata": {},
   "outputs": [
    {
     "data": {
      "image/png": "[encoded data removed]",
      "text/plain": [
       "<Figure size 1290.83x367.889 with 1 Axes>"
      ]
     },
     "execution_count": 21,
     "metadata": {},
     "output_type": "execute_result"
    }
   ],
   "source": [
    "qc.draw('mpl')"
   ]
  },
  {
   "cell_type": "code",
   "execution_count": 22,
   "id": "7624e5df",
   "metadata": {},
   "outputs": [],
   "source": [
    "%reset -f"
   ]
  }
 ],
 "metadata": {
  "kernelspec": {
   "display_name": "Python 3",
   "language": "python",
   "name": "python3"
  },
  "language_info": {
   "codemirror_mode": {
    "name": "ipython",
    "version": 3
   },
   "file_extension": ".py",
   "mimetype": "text/x-python",
   "name": "python",
   "nbconvert_exporter": "python",
   "pygments_lexer": "ipython3",
   "version": "3.10.12"
  }
 },
 "nbformat": 4,
 "nbformat_minor": 5
}
