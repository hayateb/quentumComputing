{
 "cells": [
  {
   "cell_type": "markdown",
   "id": "312b96cd",
   "metadata": {},
   "source": [
    "Quantum Teleportation "
   ]
  },
  {
   "cell_type": "markdown",
   "id": "13c90812",
   "metadata": {},
   "source": [
    "Quantum teleportation is a method of transmitting quantum information (the state of a qubit) from one location to another, without physically moving the qubit itself — no matter how far apart the two locations are\n"
   ]
  },
  {
   "cell_type": "markdown",
   "id": "3be4af99",
   "metadata": {},
   "source": [
    "\n",
    "It relies on two principles \n",
    "      superpostion\n",
    "      Entanglement\n",
    "\n",
    "Quantum teleportation does what classical computer couldnt to make us to send the state even if the state to be sent is unknown .\n"
   ]
  },
  {
   "cell_type": "markdown",
   "id": "c7ad055b",
   "metadata": {},
   "source": [
    "why needed quantum teleoprtaiton ?"
   ]
  },
  {
   "cell_type": "markdown",
   "id": "0fbd6f36",
   "metadata": {},
   "source": [
    "In quantum computer the states are collapsed or destroyed the moment they are measured .\n",
    "\n",
    "no-cloning theory\n",
    "\n",
    "for this problem to send the state between two places there needed to be the protocol for which able to send the state without measurement .\n",
    "\n"
   ]
  },
  {
   "cell_type": "markdown",
   "id": "5d9f22b8",
   "metadata": {},
   "source": [
    "quantum teleportation exchange the unknown states between two qubits no faster than the speed of light beicase of classical communication between them ."
   ]
  },
  {
   "cell_type": "markdown",
   "id": "7a440995",
   "metadata": {},
   "source": [
    "Implementation To Follow in the code \n",
    "\n"
   ]
  },
  {
   "cell_type": "markdown",
   "id": "a9a94552",
   "metadata": {},
   "source": [
    "conslusion quantum teloprtation does sending the uknown state between two qubits whcih are far apart each other by destrying on the sender and recreating the reciever state."
   ]
  }
 ],
 "metadata": {
  "language_info": {
   "name": "python"
  }
 },
 "nbformat": 4,
 "nbformat_minor": 5
}
