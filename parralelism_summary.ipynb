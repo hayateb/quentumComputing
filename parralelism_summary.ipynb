{
 "cells": [
  {
   "cell_type": "markdown",
   "id": "d936d105",
   "metadata": {},
   "source": [
    "Quantum Parallelism with Deutsch-Jozsa Algorithm "
   ]
  },
  {
   "cell_type": "markdown",
   "id": "941be872",
   "metadata": {},
   "source": [
    "what is Quantum Parallelism ?"
   ]
  },
  {
   "cell_type": "markdown",
   "id": "cec367c8",
   "metadata": {},
   "source": [
    "Quantum parallelism means that a quantum computer can evaluate a function on multiple inputs at the same time using superposition. \n",
    "\n",
    "Instead of evaluation 2^n where n is number of inputs like classical computer does parallalism does to evaluate all of the possible outcomes at once by using there combination of states ( 0 and 1).\n"
   ]
  },
  {
   "cell_type": "markdown",
   "id": "e3680e10",
   "metadata": {},
   "source": [
    "Although we can evaluate at once because of superpostion when figuring out which type of evaluation we applied in it parallaelism is not enough . Here comes the Duetsh algorthim next."
   ]
  },
  {
   "cell_type": "markdown",
   "id": "dfa31e4f",
   "metadata": {},
   "source": [
    "Duetsch Jozsa Algorthim helps us to identify which type of evaluation function applied to the input by identifying  either it is constatnt or balanced function .\n",
    "\n"
   ]
  },
  {
   "cell_type": "markdown",
   "id": "6ec470d7",
   "metadata": {},
   "source": [
    "Steps to follow \n",
    "\n",
    "      1 Intialize qubits two qubits the input and output\n",
    "      \n",
    "      2 Apply Hadamard Gates to both of them\n",
    "      3 Apply Oracle encoding function\n",
    "      4 Apply another Hadamard gate to input qubit only for interference purpose \n",
    "      5 Measurment the first qubit\n",
    "      If it results 0  the function is always constant \n",
    "      If it results 1 the fucntion is balanced "
   ]
  }
 ],
 "metadata": {
  "language_info": {
   "name": "python"
  }
 },
 "nbformat": 4,
 "nbformat_minor": 5
}
